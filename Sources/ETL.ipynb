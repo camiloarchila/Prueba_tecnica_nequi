{
 "cells": [
  {
   "cell_type": "code",
   "execution_count": 2,
   "metadata": {},
   "outputs": [],
   "source": [
    "import pandas as pd"
   ]
  },
  {
   "attachments": {},
   "cell_type": "markdown",
   "metadata": {},
   "source": [
    "Leemos el archivo de la data revisando primero si existe el archivo que esta decodificado y separado anteriormente, si no leera el archivo original"
   ]
  },
  {
   "cell_type": "code",
   "execution_count": 3,
   "metadata": {},
   "outputs": [],
   "source": [
    "\n",
    "df = pd.read_csv(\"../Resources/Casos_positivos_de_COVID-19_en_Colombia.csv\",\n",
    "                    delimiter=',', encoding='utf8', engine='python')\n"
   ]
  },
  {
   "cell_type": "code",
   "execution_count": 38,
   "metadata": {},
   "outputs": [
    {
     "name": "stdout",
     "output_type": "stream",
     "text": [
      "Cantidad de Filas y columnas:  (6372392, 23)\n"
     ]
    }
   ],
   "source": [
    "df_inicial = df.shape\n",
    "print(\"Cantidad de Filas y columnas: \", df.shape)"
   ]
  },
  {
   "cell_type": "code",
   "execution_count": 39,
   "metadata": {},
   "outputs": [
    {
     "name": "stdout",
     "output_type": "stream",
     "text": [
      "Nombre de las columnas:  Index(['fecha reporte web', 'ID de caso', 'Fecha de notificación',\n",
      "       'Código DIVIPOLA departamento', 'Nombre departamento',\n",
      "       'Código DIVIPOLA municipio', 'Nombre municipio', 'Edad',\n",
      "       'Unidad de medida de edad', 'Sexo', 'Tipo de contagio',\n",
      "       'Ubicación del caso', 'Estado', 'Código ISO del país',\n",
      "       'Nombre del país', 'Recuperado', 'Fecha de inicio de síntomas',\n",
      "       'Fecha de muerte', 'Fecha de diagnóstico', 'Fecha de recuperación',\n",
      "       'Tipo de recuperación', 'Pertenencia étnica',\n",
      "       'Nombre del grupo étnico'],\n",
      "      dtype='object')\n"
     ]
    }
   ],
   "source": [
    "print(\"Nombre de las columnas: \", df.columns)"
   ]
  },
  {
   "attachments": {},
   "cell_type": "markdown",
   "metadata": {},
   "source": [
    "Vamos a concentrarnos principalmente en las siguiente columans:\n",
    "\n",
    "Nombre municipio, Edad, Sexo, Tipo de contagio, Estado, Nombre del país y Recuperado\n",
    "\n",
    "primero vamos a llenar los espacios de la columa pais con el valor Colombia y limitaremos nuesto dataframe a esos registros"
   ]
  },
  {
   "cell_type": "code",
   "execution_count": 40,
   "metadata": {},
   "outputs": [
    {
     "data": {
      "text/plain": [
       "Nombre del país\n",
       "COLOMBIA                       6368679\n",
       "ESTADOS UNIDOS DE AMÉRICA         1416\n",
       "MÉXICO                             385\n",
       "ESPAÑA                             370\n",
       "BRASIL                             285\n",
       "                                ...   \n",
       "CHINA                                1\n",
       "BOSNIA Y HERZEGOVINA                 1\n",
       "SAN BARTOLOMÉ                        1\n",
       "VENEUELA                             1\n",
       "REPUBLICA POPULAR DEL CONGO          1\n",
       "Name: count, Length: 89, dtype: int64"
      ]
     },
     "execution_count": 40,
     "metadata": {},
     "output_type": "execute_result"
    }
   ],
   "source": [
    "df['Nombre del país'] = df['Nombre del país'].fillna(\"COLOMBIA\")\n",
    "df['Nombre del país'].value_counts()"
   ]
  },
  {
   "cell_type": "code",
   "execution_count": 41,
   "metadata": {},
   "outputs": [
    {
     "name": "stdout",
     "output_type": "stream",
     "text": [
      "Al limitar el dataset solo para colombia descartaremos 3713 registros\n"
     ]
    }
   ],
   "source": [
    "print(\"Al limitar el dataset solo para colombia descartaremos\", df['ID de caso'].count() - df['Nombre del país'].value_counts()['COLOMBIA'], \"registros\")"
   ]
  },
  {
   "cell_type": "code",
   "execution_count": 43,
   "metadata": {},
   "outputs": [
    {
     "data": {
      "text/plain": [
       "Nombre del país\n",
       "COLOMBIA    6368679\n",
       "Name: count, dtype: int64"
      ]
     },
     "execution_count": 43,
     "metadata": {},
     "output_type": "execute_result"
    }
   ],
   "source": [
    "df = df[df['Nombre del país'] == \"COLOMBIA\"]\n",
    "df['Nombre del país'].value_counts()"
   ]
  },
  {
   "attachments": {},
   "cell_type": "markdown",
   "metadata": {},
   "source": [
    "Como solo nos interesan los casos que tengan un estado en recuperado, debido a que los casos que tienen vacio el registro de Recuperado nulo significa que fallecieron por otra causa agena a COVID-19 limitaremos la data a lo que tengan algo en ese campo."
   ]
  },
  {
   "cell_type": "code",
   "execution_count": 46,
   "metadata": {},
   "outputs": [
    {
     "name": "stdout",
     "output_type": "stream",
     "text": [
      "Al limitar el dataset para casos con registro recuperado, descartaremos 35161 registros\n"
     ]
    }
   ],
   "source": [
    "print(\"Al limitar el dataset para casos con registro recuperado, descartaremos\", df['ID de caso'].count() - df['Recuperado'].value_counts().sum(), \"registros\")"
   ]
  },
  {
   "cell_type": "code",
   "execution_count": 47,
   "metadata": {},
   "outputs": [
    {
     "data": {
      "text/plain": [
       "Recuperado\n",
       "Recuperado    6188618\n",
       "Fallecido      142418\n",
       "Activo           2187\n",
       "fallecido         295\n",
       "Name: count, dtype: int64"
      ]
     },
     "execution_count": 47,
     "metadata": {},
     "output_type": "execute_result"
    }
   ],
   "source": [
    "df = df[df['Recuperado'] != \"\"]\n",
    "df['Recuperado'].value_counts()"
   ]
  },
  {
   "attachments": {},
   "cell_type": "markdown",
   "metadata": {},
   "source": [
    "Cambiamos los valores a mayusculas"
   ]
  },
  {
   "cell_type": "code",
   "execution_count": null,
   "metadata": {},
   "outputs": [],
   "source": [
    "df['Recuperado'] = df['Recuperado'].astype(str)\n",
    "df['Recuperado'] = df['Recuperado'].apply(str.upper)\n",
    "df['Recuperado'].value_counts()"
   ]
  },
  {
   "attachments": {},
   "cell_type": "markdown",
   "metadata": {},
   "source": [
    "Cambiamos los valores de los nombres de los departamentos a mayusculas"
   ]
  },
  {
   "cell_type": "code",
   "execution_count": 49,
   "metadata": {},
   "outputs": [
    {
     "data": {
      "text/plain": [
       "False"
      ]
     },
     "execution_count": 49,
     "metadata": {},
     "output_type": "execute_result"
    }
   ],
   "source": [
    "df['Nombre departamento'].isnull().any()"
   ]
  },
  {
   "cell_type": "code",
   "execution_count": 50,
   "metadata": {},
   "outputs": [
    {
     "data": {
      "text/plain": [
       "Nombre departamento\n",
       "BOGOTA             1879325\n",
       "ANTIOQUIA           951808\n",
       "VALLE               569260\n",
       "CUNDINAMARCA        330670\n",
       "SANTANDER           296835\n",
       "BARRANQUILLA        277636\n",
       "CARTAGENA           163413\n",
       "ATLANTICO           140935\n",
       "BOYACA              130537\n",
       "TOLIMA              127524\n",
       "NORTE SANTANDER     125512\n",
       "CORDOBA             122785\n",
       "CALDAS              119827\n",
       "RISARALDA           109984\n",
       "CESAR               109699\n",
       "NARIÑO              108664\n",
       "META                108016\n",
       "HUILA               103376\n",
       "STA MARTA D.E.       84768\n",
       "CAUCA                77006\n",
       "QUINDIO              73132\n",
       "SUCRE                67323\n",
       "GUAJIRA              58215\n",
       "CASANARE             43180\n",
       "BOLIVAR              40279\n",
       "MAGDALENA            33115\n",
       "CAQUETA              25726\n",
       "PUTUMAYO             22024\n",
       "CHOCO                18897\n",
       "ARAUCA               17238\n",
       "SAN ANDRES           10386\n",
       "AMAZONAS              7649\n",
       "GUAVIARE              5687\n",
       "VICHADA               3494\n",
       "GUAINIA               2787\n",
       "VAUPES                1967\n",
       "Name: count, dtype: int64"
      ]
     },
     "execution_count": 50,
     "metadata": {},
     "output_type": "execute_result"
    }
   ],
   "source": [
    "df['Nombre departamento'] = df['Nombre departamento'].apply(str.upper)\n",
    "df['Nombre departamento'].value_counts()"
   ]
  },
  {
   "attachments": {},
   "cell_type": "markdown",
   "metadata": {},
   "source": [
    "Cambiamos los valores de los nombres de los municipios a mayusculas"
   ]
  },
  {
   "cell_type": "code",
   "execution_count": 55,
   "metadata": {},
   "outputs": [
    {
     "data": {
      "text/plain": [
       "False"
      ]
     },
     "execution_count": 55,
     "metadata": {},
     "output_type": "execute_result"
    }
   ],
   "source": [
    "df['Nombre municipio'].isnull().any()"
   ]
  },
  {
   "cell_type": "code",
   "execution_count": 56,
   "metadata": {},
   "outputs": [
    {
     "data": {
      "text/plain": [
       "Nombre municipio\n",
       "BOGOTA                            1879325\n",
       "MEDELLIN                           548596\n",
       "CALI                               403931\n",
       "BARRANQUILLA                       277636\n",
       "CARTAGENA                          163413\n",
       "                                   ...   \n",
       "EL ENCANTO (CD)                         7\n",
       "PUERTO ALEGRIA (CD)                     7\n",
       "BELEN DE BAJIRA                         4\n",
       "PAPUNAUA (MORICHAL) (CD)                1\n",
       "MORICHAL (MORICHAL NUEVO) (CD)          1\n",
       "Name: count, Length: 1039, dtype: int64"
      ]
     },
     "execution_count": 56,
     "metadata": {},
     "output_type": "execute_result"
    }
   ],
   "source": [
    "df['Nombre municipio'] = df['Nombre municipio'].apply(str.upper)\n",
    "df['Nombre municipio'].value_counts()"
   ]
  },
  {
   "attachments": {},
   "cell_type": "markdown",
   "metadata": {},
   "source": [
    "Cambiamos los valores del sexo a mayusculas"
   ]
  },
  {
   "cell_type": "code",
   "execution_count": 57,
   "metadata": {},
   "outputs": [
    {
     "data": {
      "text/plain": [
       "False"
      ]
     },
     "execution_count": 57,
     "metadata": {},
     "output_type": "execute_result"
    }
   ],
   "source": [
    "df['Sexo'].isnull().any()"
   ]
  },
  {
   "cell_type": "code",
   "execution_count": 58,
   "metadata": {},
   "outputs": [
    {
     "data": {
      "text/plain": [
       "Sexo\n",
       "F    3404438\n",
       "M    2964241\n",
       "Name: count, dtype: int64"
      ]
     },
     "execution_count": 58,
     "metadata": {},
     "output_type": "execute_result"
    }
   ],
   "source": [
    "df['Sexo'] = df['Sexo'].apply(str.upper)\n",
    "df['Sexo'].value_counts()"
   ]
  },
  {
   "attachments": {},
   "cell_type": "markdown",
   "metadata": {},
   "source": [
    "Vamos a renombrar las columnas para dejarle el nombre se que van a tomar en la bd"
   ]
  },
  {
   "cell_type": "code",
   "execution_count": 4,
   "metadata": {},
   "outputs": [
    {
     "data": {
      "text/plain": [
       "Index(['fecha reporte web', 'IdCaso', 'Fehca_notificacion',\n",
       "       'Codigo_departamento', 'Nombre_departamento', 'Codigo_municipio',\n",
       "       'Nombre_municipio', 'Edad', 'Unidad_medida_edad', 'Sexo',\n",
       "       'Tipo_contagio', 'Ubicacion_caso', 'Estado', 'Codigo_pais',\n",
       "       'Nombre_pais', 'Recuperado', 'Fecha_inicio_sintomas', 'Fecha_muerte',\n",
       "       'Fecha_diagnostico', 'Fecha_recuperacion', 'Tipo_recuperacion',\n",
       "       'Pertenencia_etnica', 'Nombre_grupo_etnico'],\n",
       "      dtype='object')"
      ]
     },
     "execution_count": 4,
     "metadata": {},
     "output_type": "execute_result"
    }
   ],
   "source": [
    "nombre_comunas = [\n",
    "    'fecha reporte web',\t'IdCaso',\t'Fehca_notificacion', 'Codigo_departamento',\t'Nombre_departamento',\t'Codigo_municipio',\t'Nombre_municipio',\t'Edad',\t'Unidad_medida_edad',\t'Sexo',\t'Tipo_contagio',\t'Ubicacion_caso',\t'Estado',\t'Codigo_pais',\t'Nombre_pais',\t'Recuperado',\t'Fecha_inicio_sintomas',\t'Fecha_muerte',\t'Fecha_diagnostico',\t'Fecha_recuperacion',\t'Tipo_recuperacion',\t'Pertenencia_etnica',\t'Nombre_grupo_etnico',\n",
    "]\n",
    "\n",
    "if len(nombre_comunas) != len(df.columns):\n",
    "  print(\"El numero de nombres a asignar no coinncide con el numero de columnas\")\n",
    "else:\n",
    "  df.columns = nombre_comunas\n",
    "\n",
    "df.columns"
   ]
  },
  {
   "attachments": {},
   "cell_type": "markdown",
   "metadata": {},
   "source": [
    "Llevamos la data limpia a un archivo csv"
   ]
  },
  {
   "cell_type": "code",
   "execution_count": null,
   "metadata": {},
   "outputs": [],
   "source": [
    "df.to_csv(\"../Output/cleardata.csv\")"
   ]
  }
 ],
 "metadata": {
  "kernelspec": {
   "display_name": "Python 3",
   "language": "python",
   "name": "python3"
  },
  "language_info": {
   "codemirror_mode": {
    "name": "ipython",
    "version": 3
   },
   "file_extension": ".py",
   "mimetype": "text/x-python",
   "name": "python",
   "nbconvert_exporter": "python",
   "pygments_lexer": "ipython3",
   "version": "3.11.3"
  },
  "orig_nbformat": 4
 },
 "nbformat": 4,
 "nbformat_minor": 2
}
