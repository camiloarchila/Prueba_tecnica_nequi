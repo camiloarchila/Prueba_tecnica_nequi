{
 "cells": [
  {
   "attachments": {},
   "cell_type": "markdown",
   "metadata": {},
   "source": [
    "Dataset de Casos positivos de COVID-19 en Colombia\n",
    "\n",
    "Acontinuacion puedes observar el EDA del dataset de casos de Covid 19 que ofrece la paguina de datos abiertos de colombia"
   ]
  },
  {
   "cell_type": "code",
   "execution_count": 2,
   "metadata": {},
   "outputs": [],
   "source": [
    "import pandas as pd"
   ]
  },
  {
   "attachments": {},
   "cell_type": "markdown",
   "metadata": {},
   "source": [
    "leemos el archivo sabemos que se delimita por , y ponemos que se decodifique usando utf8 debido a que el archivo contiene tildes tambien."
   ]
  },
  {
   "attachments": {},
   "cell_type": "markdown",
   "metadata": {},
   "source": []
  },
  {
   "cell_type": "code",
   "execution_count": 5,
   "metadata": {},
   "outputs": [],
   "source": [
    "df = pd.read_csv(\"../Resources/Casos_positivos_de_COVID-19_en_Colombia.csv\",\n",
    "                    delimiter=',', encoding='utf8', engine='python')"
   ]
  },
  {
   "attachments": {},
   "cell_type": "markdown",
   "metadata": {},
   "source": [
    "Revisamos los primero y los ultimos datos de Data Frame para revisar que tengan coherencia los datos"
   ]
  },
  {
   "cell_type": "code",
   "execution_count": 12,
   "metadata": {},
   "outputs": [
    {
     "data": {
      "text/html": [
       "<div>\n",
       "<style scoped>\n",
       "    .dataframe tbody tr th:only-of-type {\n",
       "        vertical-align: middle;\n",
       "    }\n",
       "\n",
       "    .dataframe tbody tr th {\n",
       "        vertical-align: top;\n",
       "    }\n",
       "\n",
       "    .dataframe thead th {\n",
       "        text-align: right;\n",
       "    }\n",
       "</style>\n",
       "<table border=\"1\" class=\"dataframe\">\n",
       "  <thead>\n",
       "    <tr style=\"text-align: right;\">\n",
       "      <th></th>\n",
       "      <th>fecha reporte web</th>\n",
       "      <th>ID de caso</th>\n",
       "      <th>Fecha de notificación</th>\n",
       "      <th>Código DIVIPOLA departamento</th>\n",
       "      <th>Nombre departamento</th>\n",
       "      <th>Código DIVIPOLA municipio</th>\n",
       "      <th>Nombre municipio</th>\n",
       "      <th>Edad</th>\n",
       "      <th>Unidad de medida de edad</th>\n",
       "      <th>Sexo</th>\n",
       "      <th>...</th>\n",
       "      <th>Código ISO del país</th>\n",
       "      <th>Nombre del país</th>\n",
       "      <th>Recuperado</th>\n",
       "      <th>Fecha de inicio de síntomas</th>\n",
       "      <th>Fecha de muerte</th>\n",
       "      <th>Fecha de diagnóstico</th>\n",
       "      <th>Fecha de recuperación</th>\n",
       "      <th>Tipo de recuperación</th>\n",
       "      <th>Pertenencia étnica</th>\n",
       "      <th>Nombre del grupo étnico</th>\n",
       "    </tr>\n",
       "  </thead>\n",
       "  <tbody>\n",
       "    <tr>\n",
       "      <th>0</th>\n",
       "      <td>2021-03-04 00:00:00</td>\n",
       "      <td>2,265,685</td>\n",
       "      <td>2021-03-02 00:00:00</td>\n",
       "      <td>11</td>\n",
       "      <td>BOGOTA</td>\n",
       "      <td>11,001</td>\n",
       "      <td>BOGOTA</td>\n",
       "      <td>49</td>\n",
       "      <td>1</td>\n",
       "      <td>M</td>\n",
       "      <td>...</td>\n",
       "      <td>NaN</td>\n",
       "      <td>NaN</td>\n",
       "      <td>Recuperado</td>\n",
       "      <td>2021-02-25 00:00:00</td>\n",
       "      <td>NaN</td>\n",
       "      <td>2021-03-03 00:00:00</td>\n",
       "      <td>2021-03-16 00:00:00</td>\n",
       "      <td>Tiempo</td>\n",
       "      <td>6.0</td>\n",
       "      <td>NaN</td>\n",
       "    </tr>\n",
       "    <tr>\n",
       "      <th>1</th>\n",
       "      <td>2021-03-04 00:00:00</td>\n",
       "      <td>2,265,686</td>\n",
       "      <td>2021-03-02 00:00:00</td>\n",
       "      <td>11</td>\n",
       "      <td>BOGOTA</td>\n",
       "      <td>11,001</td>\n",
       "      <td>BOGOTA</td>\n",
       "      <td>49</td>\n",
       "      <td>1</td>\n",
       "      <td>M</td>\n",
       "      <td>...</td>\n",
       "      <td>NaN</td>\n",
       "      <td>NaN</td>\n",
       "      <td>Recuperado</td>\n",
       "      <td>2021-02-23 00:00:00</td>\n",
       "      <td>NaN</td>\n",
       "      <td>2021-03-03 00:00:00</td>\n",
       "      <td>2021-03-16 00:00:00</td>\n",
       "      <td>Tiempo</td>\n",
       "      <td>6.0</td>\n",
       "      <td>NaN</td>\n",
       "    </tr>\n",
       "    <tr>\n",
       "      <th>2</th>\n",
       "      <td>2021-03-04 00:00:00</td>\n",
       "      <td>2,265,687</td>\n",
       "      <td>2021-03-02 00:00:00</td>\n",
       "      <td>11</td>\n",
       "      <td>BOGOTA</td>\n",
       "      <td>11,001</td>\n",
       "      <td>BOGOTA</td>\n",
       "      <td>51</td>\n",
       "      <td>1</td>\n",
       "      <td>F</td>\n",
       "      <td>...</td>\n",
       "      <td>NaN</td>\n",
       "      <td>NaN</td>\n",
       "      <td>Recuperado</td>\n",
       "      <td>2021-02-24 00:00:00</td>\n",
       "      <td>NaN</td>\n",
       "      <td>2021-03-03 00:00:00</td>\n",
       "      <td>2021-03-16 00:00:00</td>\n",
       "      <td>Tiempo</td>\n",
       "      <td>6.0</td>\n",
       "      <td>NaN</td>\n",
       "    </tr>\n",
       "    <tr>\n",
       "      <th>3</th>\n",
       "      <td>2021-03-04 00:00:00</td>\n",
       "      <td>2,265,688</td>\n",
       "      <td>2021-03-02 00:00:00</td>\n",
       "      <td>11</td>\n",
       "      <td>BOGOTA</td>\n",
       "      <td>11,001</td>\n",
       "      <td>BOGOTA</td>\n",
       "      <td>51</td>\n",
       "      <td>1</td>\n",
       "      <td>F</td>\n",
       "      <td>...</td>\n",
       "      <td>NaN</td>\n",
       "      <td>NaN</td>\n",
       "      <td>Recuperado</td>\n",
       "      <td>2021-02-27 00:00:00</td>\n",
       "      <td>NaN</td>\n",
       "      <td>2021-03-03 00:00:00</td>\n",
       "      <td>2021-03-13 00:00:00</td>\n",
       "      <td>Tiempo</td>\n",
       "      <td>6.0</td>\n",
       "      <td>NaN</td>\n",
       "    </tr>\n",
       "    <tr>\n",
       "      <th>4</th>\n",
       "      <td>2021-03-04 00:00:00</td>\n",
       "      <td>2,265,689</td>\n",
       "      <td>2021-03-02 00:00:00</td>\n",
       "      <td>11</td>\n",
       "      <td>BOGOTA</td>\n",
       "      <td>11,001</td>\n",
       "      <td>BOGOTA</td>\n",
       "      <td>51</td>\n",
       "      <td>1</td>\n",
       "      <td>F</td>\n",
       "      <td>...</td>\n",
       "      <td>NaN</td>\n",
       "      <td>NaN</td>\n",
       "      <td>Recuperado</td>\n",
       "      <td>2021-03-01 00:00:00</td>\n",
       "      <td>NaN</td>\n",
       "      <td>2021-03-03 00:00:00</td>\n",
       "      <td>2021-03-16 00:00:00</td>\n",
       "      <td>Tiempo</td>\n",
       "      <td>6.0</td>\n",
       "      <td>NaN</td>\n",
       "    </tr>\n",
       "  </tbody>\n",
       "</table>\n",
       "<p>5 rows × 23 columns</p>\n",
       "</div>"
      ],
      "text/plain": [
       "     fecha reporte web ID de caso Fecha de notificación  \\\n",
       "0  2021-03-04 00:00:00  2,265,685   2021-03-02 00:00:00   \n",
       "1  2021-03-04 00:00:00  2,265,686   2021-03-02 00:00:00   \n",
       "2  2021-03-04 00:00:00  2,265,687   2021-03-02 00:00:00   \n",
       "3  2021-03-04 00:00:00  2,265,688   2021-03-02 00:00:00   \n",
       "4  2021-03-04 00:00:00  2,265,689   2021-03-02 00:00:00   \n",
       "\n",
       "  Código DIVIPOLA departamento Nombre departamento Código DIVIPOLA municipio  \\\n",
       "0                           11              BOGOTA                    11,001   \n",
       "1                           11              BOGOTA                    11,001   \n",
       "2                           11              BOGOTA                    11,001   \n",
       "3                           11              BOGOTA                    11,001   \n",
       "4                           11              BOGOTA                    11,001   \n",
       "\n",
       "  Nombre municipio  Edad  Unidad de medida de edad Sexo  ...  \\\n",
       "0           BOGOTA    49                         1    M  ...   \n",
       "1           BOGOTA    49                         1    M  ...   \n",
       "2           BOGOTA    51                         1    F  ...   \n",
       "3           BOGOTA    51                         1    F  ...   \n",
       "4           BOGOTA    51                         1    F  ...   \n",
       "\n",
       "  Código ISO del país Nombre del país  Recuperado Fecha de inicio de síntomas  \\\n",
       "0                 NaN             NaN  Recuperado         2021-02-25 00:00:00   \n",
       "1                 NaN             NaN  Recuperado         2021-02-23 00:00:00   \n",
       "2                 NaN             NaN  Recuperado         2021-02-24 00:00:00   \n",
       "3                 NaN             NaN  Recuperado         2021-02-27 00:00:00   \n",
       "4                 NaN             NaN  Recuperado         2021-03-01 00:00:00   \n",
       "\n",
       "  Fecha de muerte Fecha de diagnóstico Fecha de recuperación  \\\n",
       "0             NaN  2021-03-03 00:00:00   2021-03-16 00:00:00   \n",
       "1             NaN  2021-03-03 00:00:00   2021-03-16 00:00:00   \n",
       "2             NaN  2021-03-03 00:00:00   2021-03-16 00:00:00   \n",
       "3             NaN  2021-03-03 00:00:00   2021-03-13 00:00:00   \n",
       "4             NaN  2021-03-03 00:00:00   2021-03-16 00:00:00   \n",
       "\n",
       "  Tipo de recuperación Pertenencia étnica Nombre del grupo étnico  \n",
       "0               Tiempo                6.0                     NaN  \n",
       "1               Tiempo                6.0                     NaN  \n",
       "2               Tiempo                6.0                     NaN  \n",
       "3               Tiempo                6.0                     NaN  \n",
       "4               Tiempo                6.0                     NaN  \n",
       "\n",
       "[5 rows x 23 columns]"
      ]
     },
     "execution_count": 12,
     "metadata": {},
     "output_type": "execute_result"
    }
   ],
   "source": [
    "df.head()"
   ]
  },
  {
   "cell_type": "code",
   "execution_count": 13,
   "metadata": {},
   "outputs": [
    {
     "data": {
      "text/html": [
       "<div>\n",
       "<style scoped>\n",
       "    .dataframe tbody tr th:only-of-type {\n",
       "        vertical-align: middle;\n",
       "    }\n",
       "\n",
       "    .dataframe tbody tr th {\n",
       "        vertical-align: top;\n",
       "    }\n",
       "\n",
       "    .dataframe thead th {\n",
       "        text-align: right;\n",
       "    }\n",
       "</style>\n",
       "<table border=\"1\" class=\"dataframe\">\n",
       "  <thead>\n",
       "    <tr style=\"text-align: right;\">\n",
       "      <th></th>\n",
       "      <th>fecha reporte web</th>\n",
       "      <th>ID de caso</th>\n",
       "      <th>Fecha de notificación</th>\n",
       "      <th>Código DIVIPOLA departamento</th>\n",
       "      <th>Nombre departamento</th>\n",
       "      <th>Código DIVIPOLA municipio</th>\n",
       "      <th>Nombre municipio</th>\n",
       "      <th>Edad</th>\n",
       "      <th>Unidad de medida de edad</th>\n",
       "      <th>Sexo</th>\n",
       "      <th>...</th>\n",
       "      <th>Código ISO del país</th>\n",
       "      <th>Nombre del país</th>\n",
       "      <th>Recuperado</th>\n",
       "      <th>Fecha de inicio de síntomas</th>\n",
       "      <th>Fecha de muerte</th>\n",
       "      <th>Fecha de diagnóstico</th>\n",
       "      <th>Fecha de recuperación</th>\n",
       "      <th>Tipo de recuperación</th>\n",
       "      <th>Pertenencia étnica</th>\n",
       "      <th>Nombre del grupo étnico</th>\n",
       "    </tr>\n",
       "  </thead>\n",
       "  <tbody>\n",
       "    <tr>\n",
       "      <th>6372387</th>\n",
       "      <td>2022-02-05 00:00:00</td>\n",
       "      <td>5,956,386</td>\n",
       "      <td>2022-01-19 00:00:00</td>\n",
       "      <td>50</td>\n",
       "      <td>META</td>\n",
       "      <td>50,001</td>\n",
       "      <td>VILLAVICENCIO</td>\n",
       "      <td>47</td>\n",
       "      <td>1</td>\n",
       "      <td>M</td>\n",
       "      <td>...</td>\n",
       "      <td>NaN</td>\n",
       "      <td>NaN</td>\n",
       "      <td>Recuperado</td>\n",
       "      <td>2022-01-15 00:00:00</td>\n",
       "      <td>NaN</td>\n",
       "      <td>2022-01-30 00:00:00</td>\n",
       "      <td>2022-02-06 00:00:00</td>\n",
       "      <td>Tiempo</td>\n",
       "      <td>6.0</td>\n",
       "      <td>NaN</td>\n",
       "    </tr>\n",
       "    <tr>\n",
       "      <th>6372388</th>\n",
       "      <td>2022-02-05 00:00:00</td>\n",
       "      <td>5,956,387</td>\n",
       "      <td>2022-01-19 00:00:00</td>\n",
       "      <td>50</td>\n",
       "      <td>META</td>\n",
       "      <td>50,001</td>\n",
       "      <td>VILLAVICENCIO</td>\n",
       "      <td>39</td>\n",
       "      <td>1</td>\n",
       "      <td>M</td>\n",
       "      <td>...</td>\n",
       "      <td>NaN</td>\n",
       "      <td>NaN</td>\n",
       "      <td>Recuperado</td>\n",
       "      <td>2022-01-15 00:00:00</td>\n",
       "      <td>NaN</td>\n",
       "      <td>2022-01-30 00:00:00</td>\n",
       "      <td>2022-02-06 00:00:00</td>\n",
       "      <td>Tiempo</td>\n",
       "      <td>6.0</td>\n",
       "      <td>NaN</td>\n",
       "    </tr>\n",
       "    <tr>\n",
       "      <th>6372389</th>\n",
       "      <td>2022-02-05 00:00:00</td>\n",
       "      <td>5,956,388</td>\n",
       "      <td>2022-01-19 00:00:00</td>\n",
       "      <td>50</td>\n",
       "      <td>META</td>\n",
       "      <td>50,001</td>\n",
       "      <td>VILLAVICENCIO</td>\n",
       "      <td>35</td>\n",
       "      <td>1</td>\n",
       "      <td>M</td>\n",
       "      <td>...</td>\n",
       "      <td>NaN</td>\n",
       "      <td>NaN</td>\n",
       "      <td>Recuperado</td>\n",
       "      <td>2022-01-15 00:00:00</td>\n",
       "      <td>NaN</td>\n",
       "      <td>2022-01-30 00:00:00</td>\n",
       "      <td>2022-02-06 00:00:00</td>\n",
       "      <td>Tiempo</td>\n",
       "      <td>6.0</td>\n",
       "      <td>NaN</td>\n",
       "    </tr>\n",
       "    <tr>\n",
       "      <th>6372390</th>\n",
       "      <td>2022-02-05 00:00:00</td>\n",
       "      <td>5,956,389</td>\n",
       "      <td>2022-01-19 00:00:00</td>\n",
       "      <td>50</td>\n",
       "      <td>META</td>\n",
       "      <td>50,001</td>\n",
       "      <td>VILLAVICENCIO</td>\n",
       "      <td>11</td>\n",
       "      <td>1</td>\n",
       "      <td>M</td>\n",
       "      <td>...</td>\n",
       "      <td>NaN</td>\n",
       "      <td>NaN</td>\n",
       "      <td>Recuperado</td>\n",
       "      <td>2022-01-15 00:00:00</td>\n",
       "      <td>NaN</td>\n",
       "      <td>2022-01-30 00:00:00</td>\n",
       "      <td>2022-02-06 00:00:00</td>\n",
       "      <td>Tiempo</td>\n",
       "      <td>6.0</td>\n",
       "      <td>NaN</td>\n",
       "    </tr>\n",
       "    <tr>\n",
       "      <th>6372391</th>\n",
       "      <td>2022-02-05 00:00:00</td>\n",
       "      <td>5,956,390</td>\n",
       "      <td>2022-01-19 00:00:00</td>\n",
       "      <td>50</td>\n",
       "      <td>META</td>\n",
       "      <td>50,001</td>\n",
       "      <td>VILLAVICENCIO</td>\n",
       "      <td>34</td>\n",
       "      <td>1</td>\n",
       "      <td>F</td>\n",
       "      <td>...</td>\n",
       "      <td>NaN</td>\n",
       "      <td>NaN</td>\n",
       "      <td>Recuperado</td>\n",
       "      <td>2022-01-15 00:00:00</td>\n",
       "      <td>NaN</td>\n",
       "      <td>2022-01-30 00:00:00</td>\n",
       "      <td>2022-02-06 00:00:00</td>\n",
       "      <td>Tiempo</td>\n",
       "      <td>6.0</td>\n",
       "      <td>NaN</td>\n",
       "    </tr>\n",
       "  </tbody>\n",
       "</table>\n",
       "<p>5 rows × 23 columns</p>\n",
       "</div>"
      ],
      "text/plain": [
       "           fecha reporte web ID de caso Fecha de notificación  \\\n",
       "6372387  2022-02-05 00:00:00  5,956,386   2022-01-19 00:00:00   \n",
       "6372388  2022-02-05 00:00:00  5,956,387   2022-01-19 00:00:00   \n",
       "6372389  2022-02-05 00:00:00  5,956,388   2022-01-19 00:00:00   \n",
       "6372390  2022-02-05 00:00:00  5,956,389   2022-01-19 00:00:00   \n",
       "6372391  2022-02-05 00:00:00  5,956,390   2022-01-19 00:00:00   \n",
       "\n",
       "        Código DIVIPOLA departamento Nombre departamento  \\\n",
       "6372387                           50                META   \n",
       "6372388                           50                META   \n",
       "6372389                           50                META   \n",
       "6372390                           50                META   \n",
       "6372391                           50                META   \n",
       "\n",
       "        Código DIVIPOLA municipio Nombre municipio  Edad  \\\n",
       "6372387                    50,001    VILLAVICENCIO    47   \n",
       "6372388                    50,001    VILLAVICENCIO    39   \n",
       "6372389                    50,001    VILLAVICENCIO    35   \n",
       "6372390                    50,001    VILLAVICENCIO    11   \n",
       "6372391                    50,001    VILLAVICENCIO    34   \n",
       "\n",
       "         Unidad de medida de edad Sexo  ... Código ISO del país  \\\n",
       "6372387                         1    M  ...                 NaN   \n",
       "6372388                         1    M  ...                 NaN   \n",
       "6372389                         1    M  ...                 NaN   \n",
       "6372390                         1    M  ...                 NaN   \n",
       "6372391                         1    F  ...                 NaN   \n",
       "\n",
       "        Nombre del país  Recuperado Fecha de inicio de síntomas  \\\n",
       "6372387             NaN  Recuperado         2022-01-15 00:00:00   \n",
       "6372388             NaN  Recuperado         2022-01-15 00:00:00   \n",
       "6372389             NaN  Recuperado         2022-01-15 00:00:00   \n",
       "6372390             NaN  Recuperado         2022-01-15 00:00:00   \n",
       "6372391             NaN  Recuperado         2022-01-15 00:00:00   \n",
       "\n",
       "        Fecha de muerte Fecha de diagnóstico Fecha de recuperación  \\\n",
       "6372387             NaN  2022-01-30 00:00:00   2022-02-06 00:00:00   \n",
       "6372388             NaN  2022-01-30 00:00:00   2022-02-06 00:00:00   \n",
       "6372389             NaN  2022-01-30 00:00:00   2022-02-06 00:00:00   \n",
       "6372390             NaN  2022-01-30 00:00:00   2022-02-06 00:00:00   \n",
       "6372391             NaN  2022-01-30 00:00:00   2022-02-06 00:00:00   \n",
       "\n",
       "        Tipo de recuperación Pertenencia étnica Nombre del grupo étnico  \n",
       "6372387               Tiempo                6.0                     NaN  \n",
       "6372388               Tiempo                6.0                     NaN  \n",
       "6372389               Tiempo                6.0                     NaN  \n",
       "6372390               Tiempo                6.0                     NaN  \n",
       "6372391               Tiempo                6.0                     NaN  \n",
       "\n",
       "[5 rows x 23 columns]"
      ]
     },
     "execution_count": 13,
     "metadata": {},
     "output_type": "execute_result"
    }
   ],
   "source": [
    "df.tail()"
   ]
  },
  {
   "attachments": {},
   "cell_type": "markdown",
   "metadata": {},
   "source": [
    "Aqui vamos a ver las dimensiones del Data Frame y el nombre de las columas que tiene"
   ]
  },
  {
   "cell_type": "code",
   "execution_count": 14,
   "metadata": {},
   "outputs": [
    {
     "name": "stdout",
     "output_type": "stream",
     "text": [
      "Cantidad de Filas y columnas:  (6372392, 23)\n"
     ]
    }
   ],
   "source": [
    "print(\"Cantidad de Filas y columnas: \", df.shape)"
   ]
  },
  {
   "cell_type": "code",
   "execution_count": 15,
   "metadata": {},
   "outputs": [
    {
     "name": "stdout",
     "output_type": "stream",
     "text": [
      "Nombre de columnas:  Index(['fecha reporte web', 'ID de caso', 'Fecha de notificación',\n",
      "       'Código DIVIPOLA departamento', 'Nombre departamento',\n",
      "       'Código DIVIPOLA municipio', 'Nombre municipio', 'Edad',\n",
      "       'Unidad de medida de edad', 'Sexo', 'Tipo de contagio',\n",
      "       'Ubicación del caso', 'Estado', 'Código ISO del país',\n",
      "       'Nombre del país', 'Recuperado', 'Fecha de inicio de síntomas',\n",
      "       'Fecha de muerte', 'Fecha de diagnóstico', 'Fecha de recuperación',\n",
      "       'Tipo de recuperación', 'Pertenencia étnica',\n",
      "       'Nombre del grupo étnico'],\n",
      "      dtype='object')\n"
     ]
    }
   ],
   "source": [
    "print(\"Nombre de columnas: \", df.columns)"
   ]
  },
  {
   "attachments": {},
   "cell_type": "markdown",
   "metadata": {},
   "source": [
    "Vamos tambien a ver para cada columna que tipos de datos contiene, pero nos damos cuenta que no es muy diciente asi que debemos ver mas a fondo las columnas que necesitamos"
   ]
  },
  {
   "cell_type": "code",
   "execution_count": 16,
   "metadata": {},
   "outputs": [
    {
     "name": "stdout",
     "output_type": "stream",
     "text": [
      "<class 'pandas.core.frame.DataFrame'>\n",
      "RangeIndex: 6372392 entries, 0 to 6372391\n",
      "Data columns (total 23 columns):\n",
      " #   Column                        Dtype  \n",
      "---  ------                        -----  \n",
      " 0   fecha reporte web             object \n",
      " 1   ID de caso                    object \n",
      " 2   Fecha de notificación         object \n",
      " 3   Código DIVIPOLA departamento  object \n",
      " 4   Nombre departamento           object \n",
      " 5   Código DIVIPOLA municipio     object \n",
      " 6   Nombre municipio              object \n",
      " 7   Edad                          int64  \n",
      " 8   Unidad de medida de edad      int64  \n",
      " 9   Sexo                          object \n",
      " 10  Tipo de contagio              object \n",
      " 11  Ubicación del caso            object \n",
      " 12  Estado                        object \n",
      " 13  Código ISO del país           object \n",
      " 14  Nombre del país               object \n",
      " 15  Recuperado                    object \n",
      " 16  Fecha de inicio de síntomas   object \n",
      " 17  Fecha de muerte               object \n",
      " 18  Fecha de diagnóstico          object \n",
      " 19  Fecha de recuperación         object \n",
      " 20  Tipo de recuperación          object \n",
      " 21  Pertenencia étnica            float64\n",
      " 22  Nombre del grupo étnico       object \n",
      "dtypes: float64(1), int64(2), object(20)\n",
      "memory usage: 1.1+ GB\n"
     ]
    }
   ],
   "source": [
    "df.info()"
   ]
  },
  {
   "attachments": {},
   "cell_type": "markdown",
   "metadata": {},
   "source": [
    "Validamos si encontramos datos duplicados o no"
   ]
  },
  {
   "cell_type": "code",
   "execution_count": 17,
   "metadata": {},
   "outputs": [
    {
     "data": {
      "text/plain": [
       "False"
      ]
     },
     "execution_count": 17,
     "metadata": {},
     "output_type": "execute_result"
    }
   ],
   "source": [
    "df['ID de caso'].duplicated().any()"
   ]
  },
  {
   "attachments": {},
   "cell_type": "markdown",
   "metadata": {},
   "source": [
    "En grandes rasgos vamos a ver los datos numericos como se estan comportando"
   ]
  },
  {
   "cell_type": "code",
   "execution_count": 18,
   "metadata": {},
   "outputs": [
    {
     "data": {
      "text/html": [
       "<div>\n",
       "<style scoped>\n",
       "    .dataframe tbody tr th:only-of-type {\n",
       "        vertical-align: middle;\n",
       "    }\n",
       "\n",
       "    .dataframe tbody tr th {\n",
       "        vertical-align: top;\n",
       "    }\n",
       "\n",
       "    .dataframe thead th {\n",
       "        text-align: right;\n",
       "    }\n",
       "</style>\n",
       "<table border=\"1\" class=\"dataframe\">\n",
       "  <thead>\n",
       "    <tr style=\"text-align: right;\">\n",
       "      <th></th>\n",
       "      <th>Edad</th>\n",
       "      <th>Unidad de medida de edad</th>\n",
       "      <th>Pertenencia étnica</th>\n",
       "    </tr>\n",
       "  </thead>\n",
       "  <tbody>\n",
       "    <tr>\n",
       "      <th>count</th>\n",
       "      <td>6.372392e+06</td>\n",
       "      <td>6.372392e+06</td>\n",
       "      <td>6.369916e+06</td>\n",
       "    </tr>\n",
       "    <tr>\n",
       "      <th>mean</th>\n",
       "      <td>3.997267e+01</td>\n",
       "      <td>1.005280e+00</td>\n",
       "      <td>5.912016e+00</td>\n",
       "    </tr>\n",
       "    <tr>\n",
       "      <th>std</th>\n",
       "      <td>1.844271e+01</td>\n",
       "      <td>7.784666e-02</td>\n",
       "      <td>5.870738e-01</td>\n",
       "    </tr>\n",
       "    <tr>\n",
       "      <th>min</th>\n",
       "      <td>1.000000e+00</td>\n",
       "      <td>1.000000e+00</td>\n",
       "      <td>1.000000e+00</td>\n",
       "    </tr>\n",
       "    <tr>\n",
       "      <th>25%</th>\n",
       "      <td>2.700000e+01</td>\n",
       "      <td>1.000000e+00</td>\n",
       "      <td>6.000000e+00</td>\n",
       "    </tr>\n",
       "    <tr>\n",
       "      <th>50%</th>\n",
       "      <td>3.800000e+01</td>\n",
       "      <td>1.000000e+00</td>\n",
       "      <td>6.000000e+00</td>\n",
       "    </tr>\n",
       "    <tr>\n",
       "      <th>75%</th>\n",
       "      <td>5.300000e+01</td>\n",
       "      <td>1.000000e+00</td>\n",
       "      <td>6.000000e+00</td>\n",
       "    </tr>\n",
       "    <tr>\n",
       "      <th>max</th>\n",
       "      <td>1.140000e+02</td>\n",
       "      <td>4.000000e+00</td>\n",
       "      <td>6.000000e+00</td>\n",
       "    </tr>\n",
       "  </tbody>\n",
       "</table>\n",
       "</div>"
      ],
      "text/plain": [
       "               Edad  Unidad de medida de edad  Pertenencia étnica\n",
       "count  6.372392e+06              6.372392e+06        6.369916e+06\n",
       "mean   3.997267e+01              1.005280e+00        5.912016e+00\n",
       "std    1.844271e+01              7.784666e-02        5.870738e-01\n",
       "min    1.000000e+00              1.000000e+00        1.000000e+00\n",
       "25%    2.700000e+01              1.000000e+00        6.000000e+00\n",
       "50%    3.800000e+01              1.000000e+00        6.000000e+00\n",
       "75%    5.300000e+01              1.000000e+00        6.000000e+00\n",
       "max    1.140000e+02              4.000000e+00        6.000000e+00"
      ]
     },
     "execution_count": 18,
     "metadata": {},
     "output_type": "execute_result"
    }
   ],
   "source": [
    "df.describe()"
   ]
  },
  {
   "attachments": {},
   "cell_type": "markdown",
   "metadata": {},
   "source": [
    "Ahora queremos saber los nulos de cada una de las columnas"
   ]
  },
  {
   "cell_type": "code",
   "execution_count": 19,
   "metadata": {},
   "outputs": [
    {
     "data": {
      "text/plain": [
       "fecha reporte web                     0\n",
       "ID de caso                            0\n",
       "Fecha de notificación                 0\n",
       "Código DIVIPOLA departamento          0\n",
       "Nombre departamento                   0\n",
       "Código DIVIPOLA municipio             0\n",
       "Nombre municipio                      0\n",
       "Edad                                  0\n",
       "Unidad de medida de edad              0\n",
       "Sexo                                  0\n",
       "Tipo de contagio                      0\n",
       "Ubicación del caso                40083\n",
       "Estado                            40083\n",
       "Código ISO del país             6368687\n",
       "Nombre del país                 6368679\n",
       "Recuperado                        35166\n",
       "Fecha de inicio de síntomas      504255\n",
       "Fecha de muerte                 6189502\n",
       "Fecha de diagnóstico               2755\n",
       "Fecha de recuperación            180086\n",
       "Tipo de recuperación             180160\n",
       "Pertenencia étnica                 2476\n",
       "Nombre del grupo étnico         6288720\n",
       "dtype: int64"
      ]
     },
     "execution_count": 19,
     "metadata": {},
     "output_type": "execute_result"
    }
   ],
   "source": [
    "df.isnull().sum()"
   ]
  },
  {
   "attachments": {},
   "cell_type": "markdown",
   "metadata": {},
   "source": [
    "Esta es una de las columas que nos interesa entonces vamos a revisarla mas a fondo, primero vemos los datos que mas se repiten"
   ]
  },
  {
   "cell_type": "code",
   "execution_count": 21,
   "metadata": {},
   "outputs": [
    {
     "data": {
      "text/plain": [
       "Nombre del país\n",
       "ESTADOS UNIDOS DE AMÉRICA      1416\n",
       "MÉXICO                          385\n",
       "ESPAÑA                          370\n",
       "BRASIL                          285\n",
       "VENEZUELA                       177\n",
       "                               ... \n",
       "POLINESIA FRANCESA                1\n",
       "MONTENEGRO                        1\n",
       "REINO UNIDO                       1\n",
       "CHINA                             1\n",
       "REPUBLICA POPULAR DEL CONGO       1\n",
       "Name: count, Length: 88, dtype: int64"
      ]
     },
     "execution_count": 21,
     "metadata": {},
     "output_type": "execute_result"
    }
   ],
   "source": [
    "df['Nombre del país'].value_counts()"
   ]
  },
  {
   "attachments": {},
   "cell_type": "markdown",
   "metadata": {},
   "source": [
    "vemos que la mayo parte de la columna esta vacia y queremos saber por que"
   ]
  },
  {
   "cell_type": "code",
   "execution_count": 22,
   "metadata": {},
   "outputs": [
    {
     "data": {
      "text/plain": [
       "6368679"
      ]
     },
     "execution_count": 22,
     "metadata": {},
     "output_type": "execute_result"
    }
   ],
   "source": [
    "df['Nombre del país'].isnull().sum()"
   ]
  },
  {
   "attachments": {},
   "cell_type": "markdown",
   "metadata": {},
   "source": [
    "Aqui podemos ver a simple vista que parece ser que los campos vacios corresponden a colombia"
   ]
  },
  {
   "cell_type": "code",
   "execution_count": 23,
   "metadata": {},
   "outputs": [
    {
     "data": {
      "text/plain": [
       "0          BOGOTA\n",
       "1          BOGOTA\n",
       "2          BOGOTA\n",
       "3          BOGOTA\n",
       "4          BOGOTA\n",
       "            ...  \n",
       "6372387      META\n",
       "6372388      META\n",
       "6372389      META\n",
       "6372390      META\n",
       "6372391      META\n",
       "Name: Nombre departamento, Length: 6368679, dtype: object"
      ]
     },
     "execution_count": 23,
     "metadata": {},
     "output_type": "execute_result"
    }
   ],
   "source": [
    "df.loc[df['Nombre del país'].isnull(), 'Nombre departamento']"
   ]
  },
  {
   "attachments": {},
   "cell_type": "markdown",
   "metadata": {},
   "source": [
    "Entonces vamos a revisar cuantos registros de departamentos pertenencen a colombia y vemos que tenemos 3 millosnes de coincidencias"
   ]
  },
  {
   "cell_type": "code",
   "execution_count": 55,
   "metadata": {},
   "outputs": [
    {
     "data": {
      "text/plain": [
       "3092939"
      ]
     },
     "execution_count": 55,
     "metadata": {},
     "output_type": "execute_result"
    }
   ],
   "source": [
    "departamentos_colombia = [\n",
    "    'AMAZONAS', 'ANTIOQUIA', 'ARAUCA', 'ATLANTICO',\n",
    "    'BOLIVAR', 'BOYACA',\n",
    "    'CALDAS', 'CAQUETA', 'CASANARE', 'CAUCA', 'CESAR', 'CHOCO', 'CORDOBA', 'CUNDINAMARCA',\n",
    "    'GUAINIA', 'GUAVIARE',\n",
    "    'HUILA',\n",
    "    'LA GUAJIRA',\n",
    "    'MAGDALENA', 'META',\n",
    "    'NARINO', 'NORTE DE SANTANDER',\n",
    "    'PUTUMAYO',\n",
    "    'QUINDIO',\n",
    "    'RISARALDA',\n",
    "    'SAN ANDRES Y PROVIDENCIA', 'SANTANDER', 'SUCRE',\n",
    "    'TOLIMA',\n",
    "    'VALLE DEL CAUCA', 'VAUPES', 'VICHADA'\n",
    "]\n",
    "\n",
    "df['Nombre departamento'].isin(departamentos_colombia).sum()"
   ]
  },
  {
   "attachments": {},
   "cell_type": "markdown",
   "metadata": {},
   "source": [
    "aqui vamos a ver que pasa con los registros que no coinciden y podemos observar que estan mal definido como departamentos y ademas estan mescados con minusculas"
   ]
  },
  {
   "cell_type": "code",
   "execution_count": 56,
   "metadata": {},
   "outputs": [
    {
     "data": {
      "text/plain": [
       "Nombre departamento\n",
       "BOGOTA             1880264\n",
       "VALLE               570055\n",
       "BARRANQUILLA        277707\n",
       "CARTAGENA           163448\n",
       "NORTE SANTANDER     125717\n",
       "NARIÑO              108700\n",
       "STA MARTA D.E.       84774\n",
       "GUAJIRA              58222\n",
       "SAN ANDRES           10394\n",
       "Santander              162\n",
       "Cundinamarca             7\n",
       "Tolima                   1\n",
       "Caldas                   1\n",
       "Putumayo                 1\n",
       "Name: count, dtype: int64"
      ]
     },
     "execution_count": 56,
     "metadata": {},
     "output_type": "execute_result"
    }
   ],
   "source": [
    "df[~df['Nombre departamento'].isin(departamentos_colombia)]['Nombre departamento'].value_counts()"
   ]
  },
  {
   "attachments": {},
   "cell_type": "markdown",
   "metadata": {},
   "source": [
    "Entonces vamos a revisar las demas columnas que nos interesan para ver que debemos hacer con ellas"
   ]
  },
  {
   "cell_type": "code",
   "execution_count": 6,
   "metadata": {},
   "outputs": [
    {
     "data": {
      "text/plain": [
       "Nombre municipio\n",
       "BOGOTA             1880264\n",
       "MEDELLIN            549153\n",
       "CALI                404449\n",
       "BARRANQUILLA        277707\n",
       "CARTAGENA           163448\n",
       "                    ...   \n",
       "momil                    1\n",
       "puerto COLOMBIA          1\n",
       "barrancabermeja          1\n",
       "Galapa                   1\n",
       "ENTRERrIOS               1\n",
       "Name: count, Length: 1057, dtype: int64"
      ]
     },
     "execution_count": 6,
     "metadata": {},
     "output_type": "execute_result"
    }
   ],
   "source": [
    "df['Nombre municipio'].value_counts()"
   ]
  },
  {
   "cell_type": "code",
   "execution_count": 64,
   "metadata": {},
   "outputs": [
    {
     "data": {
      "text/plain": [
       "Unidad de medida de edad\n",
       "1    6341318\n",
       "2      28502\n",
       "3       2571\n",
       "4          1\n",
       "Name: count, dtype: int64"
      ]
     },
     "execution_count": 64,
     "metadata": {},
     "output_type": "execute_result"
    }
   ],
   "source": [
    "df['Unidad de medida de edad'].value_counts()"
   ]
  },
  {
   "cell_type": "code",
   "execution_count": 57,
   "metadata": {},
   "outputs": [
    {
     "data": {
      "text/plain": [
       "Edad\n",
       "30     152739\n",
       "29     151182\n",
       "28     151080\n",
       "31     149676\n",
       "27     149183\n",
       "        ...  \n",
       "111         6\n",
       "109         5\n",
       "112         4\n",
       "114         3\n",
       "113         1\n",
       "Name: count, Length: 114, dtype: int64"
      ]
     },
     "execution_count": 57,
     "metadata": {},
     "output_type": "execute_result"
    }
   ],
   "source": [
    "df['Edad'].value_counts()"
   ]
  },
  {
   "cell_type": "code",
   "execution_count": 61,
   "metadata": {},
   "outputs": [
    {
     "data": {
      "text/plain": [
       "0"
      ]
     },
     "execution_count": 61,
     "metadata": {},
     "output_type": "execute_result"
    }
   ],
   "source": [
    "df['Edad'].isnull().sum()"
   ]
  },
  {
   "cell_type": "code",
   "execution_count": 59,
   "metadata": {},
   "outputs": [
    {
     "data": {
      "text/plain": [
       "Sexo\n",
       "F    3406323\n",
       "M    2966057\n",
       "m          6\n",
       "f          6\n",
       "Name: count, dtype: int64"
      ]
     },
     "execution_count": 59,
     "metadata": {},
     "output_type": "execute_result"
    }
   ],
   "source": [
    "df['Sexo'].value_counts()"
   ]
  },
  {
   "cell_type": "code",
   "execution_count": 62,
   "metadata": {},
   "outputs": [
    {
     "data": {
      "text/plain": [
       "0"
      ]
     },
     "execution_count": 62,
     "metadata": {},
     "output_type": "execute_result"
    }
   ],
   "source": [
    "df['Sexo'].isnull().sum()"
   ]
  },
  {
   "cell_type": "code",
   "execution_count": 60,
   "metadata": {},
   "outputs": [
    {
     "data": {
      "text/plain": [
       "Recuperado\n",
       "Recuperado    6192232\n",
       "Fallecido      142512\n",
       "Activo           2187\n",
       "fallecido         295\n",
       "Name: count, dtype: int64"
      ]
     },
     "execution_count": 60,
     "metadata": {},
     "output_type": "execute_result"
    }
   ],
   "source": [
    "df['Recuperado'].value_counts()"
   ]
  },
  {
   "attachments": {},
   "cell_type": "markdown",
   "metadata": {},
   "source": [
    "En el caso de la columna de recuperados los valores vacios corresponden a fallecidos no covid entonces estos datos no nos interesan"
   ]
  },
  {
   "cell_type": "code",
   "execution_count": 63,
   "metadata": {},
   "outputs": [
    {
     "data": {
      "text/plain": [
       "35166"
      ]
     },
     "execution_count": 63,
     "metadata": {},
     "output_type": "execute_result"
    }
   ],
   "source": [
    "df['Recuperado'].isnull().sum()"
   ]
  }
 ],
 "metadata": {
  "kernelspec": {
   "display_name": "Python 3",
   "language": "python",
   "name": "python3"
  },
  "language_info": {
   "codemirror_mode": {
    "name": "ipython",
    "version": 3
   },
   "file_extension": ".py",
   "mimetype": "text/x-python",
   "name": "python",
   "nbconvert_exporter": "python",
   "pygments_lexer": "ipython3",
   "version": "3.11.3"
  },
  "orig_nbformat": 4
 },
 "nbformat": 4,
 "nbformat_minor": 2
}
